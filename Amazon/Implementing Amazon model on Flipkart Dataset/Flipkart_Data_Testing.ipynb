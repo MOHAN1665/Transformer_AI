{
 "cells": [
  {
   "cell_type": "code",
   "execution_count": 1,
   "id": "7335d052",
   "metadata": {},
   "outputs": [],
   "source": [
    "import pandas as pd\n",
    "from transformers import pipeline\n",
    "import joblib\n",
    "\n",
    "# 1. Load your saved label encoder\n",
    "label_encoder = joblib.load(\"label_encoder.pkl\")\n",
    "label_map = {f\"LABEL_{i}\": name for i, name in enumerate(label_encoder.classes_)}"
   ]
  },
  {
   "cell_type": "code",
   "execution_count": 5,
   "id": "5e7c18fa",
   "metadata": {},
   "outputs": [],
   "source": [
    "# 2. Load Flipkart data CSV (replace with your actual path)\n",
    "flipkart_df = pd.read_csv(\"flipkart_product.csv\", encoding=\"latin1\")\n",
    "\n",
    "# # Let's say Flipkart reviews are in 'review_text' column,\n",
    "# # and if you have true sentiment labels, it's in 'sentiment' column\n",
    "# flipkart_texts = flipkart_df['review_text'].tolist()\n",
    "# # If you have ground truth sentiment labels, else skip evaluation step\n",
    "# true_labels = flipkart_df['sentiment'].tolist() if 'sentiment' in flipkart_df.columns else None\n"
   ]
  },
  {
   "cell_type": "code",
   "execution_count": 6,
   "id": "5fb390d3",
   "metadata": {},
   "outputs": [
    {
     "data": {
      "text/plain": [
       "Index(['ProductName', 'Price', 'Rate', 'Review', 'Summary'], dtype='object')"
      ]
     },
     "execution_count": 6,
     "metadata": {},
     "output_type": "execute_result"
    }
   ],
   "source": [
    "flipkart_df.columns"
   ]
  },
  {
   "cell_type": "code",
   "execution_count": 7,
   "id": "d08d90ab",
   "metadata": {},
   "outputs": [
    {
     "name": "stderr",
     "output_type": "stream",
     "text": [
      "Device set to use cpu\n"
     ]
    },
    {
     "name": "stdout",
     "output_type": "stream",
     "text": [
      "Review: Super!...\n",
      "Predicted Sentiment: positive, Confidence: 0.991\n",
      "\n",
      "Review: Awesome...\n",
      "Predicted Sentiment: positive, Confidence: 0.990\n",
      "\n",
      "Review: Fair...\n",
      "Predicted Sentiment: neutral, Confidence: 0.951\n",
      "\n",
      "Review: Useless product...\n",
      "Predicted Sentiment: negative, Confidence: 0.997\n",
      "\n",
      "Review: Fair...\n",
      "Predicted Sentiment: neutral, Confidence: 0.951\n",
      "\n",
      "Review: Awesome...\n",
      "Predicted Sentiment: positive, Confidence: 0.990\n",
      "\n",
      "Review: Highly recommended...\n",
      "Predicted Sentiment: positive, Confidence: 0.994\n",
      "\n",
      "Review: Nice...\n",
      "Predicted Sentiment: neutral, Confidence: 0.949\n",
      "\n",
      "Review: Unsatisfactory...\n",
      "Predicted Sentiment: negative, Confidence: 0.965\n",
      "\n",
      "Review: Worth the money...\n",
      "Predicted Sentiment: neutral, Confidence: 0.771\n",
      "\n"
     ]
    }
   ],
   "source": [
    "# 2. Load the fine-tuned model pipeline\n",
    "classifier = pipeline(\n",
    "    \"text-classification\",\n",
    "    model=\"fine-tuned-amazon-model\",\n",
    "    tokenizer=\"fine-tuned-amazon-model\",\n",
    "    top_k=1\n",
    ")\n",
    "\n",
    "# 3. Your saved label map (adjust as per your saved label encoder)\n",
    "label_map = {\n",
    "    \"LABEL_0\": \"negative\",\n",
    "    \"LABEL_1\": \"neutral\",\n",
    "    \"LABEL_2\": \"positive\"\n",
    "}\n",
    "\n",
    "# 4. Run prediction on first 10 reviews for example\n",
    "for review in flipkart_df['Review'].head(10):\n",
    "    result = classifier(review)[0][0]  # top prediction\n",
    "    result[\"label\"] = label_map[result[\"label\"]]\n",
    "    print(f\"Review: {review[:80]}...\")  # print first 80 chars\n",
    "    print(f\"Predicted Sentiment: {result['label']}, Confidence: {result['score']:.3f}\\n\")"
   ]
  },
  {
   "cell_type": "code",
   "execution_count": 1,
   "id": "6dc056c9",
   "metadata": {},
   "outputs": [
    {
     "name": "stdout",
     "output_type": "stream",
     "text": [
      "Columns in dataset: ['ProductName', 'Price', 'Rate', 'Review', 'Summary']\n"
     ]
    },
    {
     "data": {
      "text/html": [
       "<div>\n",
       "<style scoped>\n",
       "    .dataframe tbody tr th:only-of-type {\n",
       "        vertical-align: middle;\n",
       "    }\n",
       "\n",
       "    .dataframe tbody tr th {\n",
       "        vertical-align: top;\n",
       "    }\n",
       "\n",
       "    .dataframe thead th {\n",
       "        text-align: right;\n",
       "    }\n",
       "</style>\n",
       "<table border=\"1\" class=\"dataframe\">\n",
       "  <thead>\n",
       "    <tr style=\"text-align: right;\">\n",
       "      <th></th>\n",
       "      <th>ProductName</th>\n",
       "      <th>Price</th>\n",
       "      <th>Rate</th>\n",
       "      <th>Review</th>\n",
       "      <th>Summary</th>\n",
       "    </tr>\n",
       "  </thead>\n",
       "  <tbody>\n",
       "    <tr>\n",
       "      <th>0</th>\n",
       "      <td>Candes 12 L Room/Personal Air Cooler?ÿ?ÿ(White...</td>\n",
       "      <td>??3,999</td>\n",
       "      <td>5</td>\n",
       "      <td>Super!</td>\n",
       "      <td>Great cooler.. excellent air flow and for this...</td>\n",
       "    </tr>\n",
       "    <tr>\n",
       "      <th>1</th>\n",
       "      <td>Candes 12 L Room/Personal Air Cooler?ÿ?ÿ(White...</td>\n",
       "      <td>??3,999</td>\n",
       "      <td>5</td>\n",
       "      <td>Awesome</td>\n",
       "      <td>Best budget 2 fit cooler. Nice cooling</td>\n",
       "    </tr>\n",
       "    <tr>\n",
       "      <th>2</th>\n",
       "      <td>Candes 12 L Room/Personal Air Cooler?ÿ?ÿ(White...</td>\n",
       "      <td>??3,999</td>\n",
       "      <td>3</td>\n",
       "      <td>Fair</td>\n",
       "      <td>The quality is good but the power of air is de...</td>\n",
       "    </tr>\n",
       "    <tr>\n",
       "      <th>3</th>\n",
       "      <td>Candes 12 L Room/Personal Air Cooler?ÿ?ÿ(White...</td>\n",
       "      <td>??3,999</td>\n",
       "      <td>1</td>\n",
       "      <td>Useless product</td>\n",
       "      <td>Very bad product it's a only a fan</td>\n",
       "    </tr>\n",
       "    <tr>\n",
       "      <th>4</th>\n",
       "      <td>Candes 12 L Room/Personal Air Cooler?ÿ?ÿ(White...</td>\n",
       "      <td>??3,999</td>\n",
       "      <td>3</td>\n",
       "      <td>Fair</td>\n",
       "      <td>Ok ok product</td>\n",
       "    </tr>\n",
       "  </tbody>\n",
       "</table>\n",
       "</div>"
      ],
      "text/plain": [
       "                                         ProductName     Price Rate  \\\n",
       "0  Candes 12 L Room/Personal Air Cooler?ÿ?ÿ(White...  ??3,999    5   \n",
       "1  Candes 12 L Room/Personal Air Cooler?ÿ?ÿ(White...  ??3,999    5   \n",
       "2  Candes 12 L Room/Personal Air Cooler?ÿ?ÿ(White...  ??3,999    3   \n",
       "3  Candes 12 L Room/Personal Air Cooler?ÿ?ÿ(White...  ??3,999    1   \n",
       "4  Candes 12 L Room/Personal Air Cooler?ÿ?ÿ(White...  ??3,999    3   \n",
       "\n",
       "            Review                                            Summary  \n",
       "0           Super!  Great cooler.. excellent air flow and for this...  \n",
       "1          Awesome             Best budget 2 fit cooler. Nice cooling  \n",
       "2             Fair  The quality is good but the power of air is de...  \n",
       "3  Useless product                 Very bad product it's a only a fan  \n",
       "4             Fair                                      Ok ok product  "
      ]
     },
     "metadata": {},
     "output_type": "display_data"
    },
    {
     "name": "stderr",
     "output_type": "stream",
     "text": [
      "Device set to use cpu\n"
     ]
    },
    {
     "name": "stdout",
     "output_type": "stream",
     "text": [
      "Review #1: Super!\n",
      "Predicted Sentiment: positive, Confidence: 0.991\n",
      "\n",
      "Review #2: Awesome\n",
      "Predicted Sentiment: positive, Confidence: 0.990\n",
      "\n",
      "Review #3: Fair\n",
      "Predicted Sentiment: neutral, Confidence: 0.951\n",
      "\n",
      "Review #4: Useless product\n",
      "Predicted Sentiment: negative, Confidence: 0.997\n",
      "\n",
      "Review #5: Fair\n",
      "Predicted Sentiment: neutral, Confidence: 0.951\n",
      "\n",
      "Review #6: Awesome\n",
      "Predicted Sentiment: positive, Confidence: 0.990\n",
      "\n",
      "Review #7: Highly recommended\n",
      "Predicted Sentiment: positive, Confidence: 0.994\n",
      "\n",
      "Review #8: Nice\n",
      "Predicted Sentiment: neutral, Confidence: 0.949\n",
      "\n",
      "Review #9: Unsatisfactory\n",
      "Predicted Sentiment: negative, Confidence: 0.965\n",
      "\n",
      "Review #10: Worth the money\n",
      "Predicted Sentiment: neutral, Confidence: 0.771\n",
      "\n"
     ]
    }
   ],
   "source": [
    "import pandas as pd\n",
    "from transformers import pipeline\n",
    "import joblib\n",
    "\n",
    "# 1. Load your saved label encoder and create label map\n",
    "label_encoder = joblib.load(\"label_encoder.pkl\")\n",
    "label_map = {f\"LABEL_{i}\": name for i, name in enumerate(label_encoder.classes_)}\n",
    "\n",
    "# 2. Load Flipkart data CSV\n",
    "flipkart_df = pd.read_csv(\"flipkart_product.csv\", encoding=\"latin1\")\n",
    "\n",
    "# Display columns to confirm review column name\n",
    "print(\"Columns in dataset:\", flipkart_df.columns.tolist())\n",
    "\n",
    "# Check the first few rows to ensure 'Review' column exists\n",
    "display(flipkart_df.head())\n",
    "\n",
    "# 3. Load the fine-tuned classification pipeline\n",
    "classifier = pipeline(\n",
    "    \"text-classification\",\n",
    "    model=\"fine-tuned-amazon-model\",\n",
    "    tokenizer=\"fine-tuned-amazon-model\",\n",
    "    top_k=1\n",
    ")\n",
    "\n",
    "# 4. Function to predict sentiment on a list of reviews\n",
    "def predict_reviews(reviews, max_samples=10):\n",
    "    for i, review in enumerate(reviews[:max_samples]):\n",
    "        # Handle missing or empty reviews gracefully\n",
    "        if not isinstance(review, str) or review.strip() == \"\":\n",
    "            print(f\"Review #{i+1} is empty or invalid, skipping.\")\n",
    "            continue\n",
    "\n",
    "        prediction = classifier(review)[0][0]  # top prediction\n",
    "        sentiment = label_map.get(prediction[\"label\"], prediction[\"label\"])\n",
    "        confidence = prediction[\"score\"]\n",
    "\n",
    "        print(f\"Review #{i+1}: {review[:80]}{'...' if len(review) > 80 else ''}\")\n",
    "        print(f\"Predicted Sentiment: {sentiment}, Confidence: {confidence:.3f}\\n\")\n",
    "\n",
    "# 5. Run prediction on the first 10 reviews\n",
    "predict_reviews(flipkart_df['Review'])\n"
   ]
  },
  {
   "cell_type": "code",
   "execution_count": null,
   "id": "1cea10dc",
   "metadata": {},
   "outputs": [],
   "source": []
  }
 ],
 "metadata": {
  "kernelspec": {
   "display_name": "base",
   "language": "python",
   "name": "python3"
  },
  "language_info": {
   "codemirror_mode": {
    "name": "ipython",
    "version": 3
   },
   "file_extension": ".py",
   "mimetype": "text/x-python",
   "name": "python",
   "nbconvert_exporter": "python",
   "pygments_lexer": "ipython3",
   "version": "3.10.18"
  }
 },
 "nbformat": 4,
 "nbformat_minor": 5
}
