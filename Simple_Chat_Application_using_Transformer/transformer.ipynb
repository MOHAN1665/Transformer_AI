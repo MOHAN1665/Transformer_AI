{
 "cells": [
  {
   "cell_type": "code",
   "execution_count": 1,
   "id": "dca3e4b8",
   "metadata": {},
   "outputs": [],
   "source": [
    "import re\n",
    "from collections import defaultdict"
   ]
  },
  {
   "cell_type": "code",
   "execution_count": 2,
   "id": "42034220",
   "metadata": {},
   "outputs": [],
   "source": [
    "db={\n",
    "    \"list some programming languages\":[\"Python\",\"Java\",\"C\"],\n",
    "    \"What is AI\":[\"AI\",\"stands\",\"for\",\"Artificial\",\"Intelligence\"]\n",
    "}"
   ]
  },
  {
   "cell_type": "code",
   "execution_count": 37,
   "id": "d5f6f790",
   "metadata": {},
   "outputs": [],
   "source": [
    "word_embeddings={\n",
    "    \"what\":0.2,\n",
    "    \"is\":0.3,\n",
    "    \"ai\":0.9,\n",
    "    \"list\":0.7,\n",
    "    \"some\":0.6,\n",
    "    \"programming\":0.9,\n",
    "    \"languages\":0.8\n",
    "}"
   ]
  },
  {
   "cell_type": "code",
   "execution_count": 4,
   "id": "c15409a0",
   "metadata": {},
   "outputs": [],
   "source": [
    "def normalize(text):\n",
    "    text=text.lower()\n",
    "    text=re.sub(r\"[^\\w\\s]\",\"\",text)\n",
    "    return text.strip()"
   ]
  },
  {
   "cell_type": "code",
   "execution_count": 5,
   "id": "4c4551a2",
   "metadata": {},
   "outputs": [],
   "source": [
    "def tokenize(text):\n",
    "    return normalize(text).split()"
   ]
  },
  {
   "cell_type": "code",
   "execution_count": 6,
   "id": "d23932cd",
   "metadata": {},
   "outputs": [],
   "source": [
    "def attention_score(w1,w2):\n",
    "    return word_embeddings.get(w1,0.1)*word_embeddings.get(w2,0.1)"
   ]
  },
  {
   "cell_type": "code",
   "execution_count": 7,
   "id": "d3927ff6",
   "metadata": {},
   "outputs": [],
   "source": [
    "def encode_question(ques):\n",
    "    tokens=tokenize(ques)\n",
    "    focus_map={}\n",
    "    for w1 in tokens:\n",
    "        total=0.0\n",
    "        for w2 in tokens:\n",
    "            if w1!=w2:\n",
    "                total+=attention_score(w1,w2)\n",
    "        focus_map[w1]=total\n",
    "    return tokens,focus_map\n",
    "        "
   ]
  },
  {
   "cell_type": "code",
   "execution_count": 8,
   "id": "439090e2",
   "metadata": {},
   "outputs": [],
   "source": [
    "def find_best_match(tokens):\n",
    "    token_set=set(tokens)\n",
    "    best_key=None\n",
    "    best_score=-1.0\n",
    "    for x in db:\n",
    "        x_set=set(tokenize(x))\n",
    "        if not x and not token_set:\n",
    "            continue\n",
    "        intersection=token_set & x_set\n",
    "        union=token_set | x_set\n",
    "        score=len(intersection)/len(union) if union else 0.0\n",
    "        if score>best_score:\n",
    "            best_score=score\n",
    "            best_key=x\n",
    "    return best_key,best_score"
   ]
  },
  {
   "cell_type": "code",
   "execution_count": 24,
   "id": "bb495f84",
   "metadata": {},
   "outputs": [],
   "source": [
    "def decoder(memory_key):\n",
    "    if memory_key is None:\n",
    "        return [\"Answer\",\"not\",\"found!\"]\n",
    "    return db.get(memory_key,[\"Answer\",\"not\",\"found!\"])"
   ]
  },
  {
   "cell_type": "code",
   "execution_count": 30,
   "id": "1ed9a9b1",
   "metadata": {},
   "outputs": [],
   "source": [
    "def transformer(q):\n",
    "    tokens,focus_map=encode_question(q)\n",
    "    print(\"--ENCODER--\")\n",
    "    print(f\"Tokens:(tokens)\")\n",
    "    print(\"Focus Map:{focus_map}\")\n",
    "    print(\"--DECODER--\")\n",
    "    best_key,score=find_best_match(tokens)\n",
    "    if score < 0.2:\n",
    "        best_key = None\n",
    "    print(f\"Best Match: '{best_key}'(score: {score:.2f})\")\n",
    "    ans_tok=decoder(best_key)\n",
    "    ans=\" \".join(ans_tok)\n",
    "    print(f\"Generated Answer:{ans}\")\n",
    "    return ans"
   ]
  },
  {
   "cell_type": "code",
   "execution_count": 31,
   "id": "543b760e",
   "metadata": {},
   "outputs": [
    {
     "name": "stdout",
     "output_type": "stream",
     "text": [
      "--ENCODER--\n",
      "Tokens:(tokens)\n",
      "Focus Map:{focus_map}\n",
      "--DECODER--\n",
      "Best Match: 'list some programming languages'(score: 1.00)\n",
      "Generated Answer:Python Java C\n"
     ]
    },
    {
     "data": {
      "text/plain": [
       "'Python Java C'"
      ]
     },
     "execution_count": 31,
     "metadata": {},
     "output_type": "execute_result"
    }
   ],
   "source": [
    "transformer(\"list some programming languages\")"
   ]
  },
  {
   "cell_type": "code",
   "execution_count": 32,
   "id": "f24dfe58",
   "metadata": {},
   "outputs": [
    {
     "name": "stdout",
     "output_type": "stream",
     "text": [
      "--ENCODER--\n",
      "Tokens:(tokens)\n",
      "Focus Map:{focus_map}\n",
      "--DECODER--\n",
      "Best Match: 'What is AI'(score: 1.00)\n",
      "Generated Answer:AI stands for Artificial Intelligence\n"
     ]
    },
    {
     "data": {
      "text/plain": [
       "'AI stands for Artificial Intelligence'"
      ]
     },
     "execution_count": 32,
     "metadata": {},
     "output_type": "execute_result"
    }
   ],
   "source": [
    "transformer(\"What is AI\")"
   ]
  },
  {
   "cell_type": "code",
   "execution_count": 33,
   "id": "0b40a0ba",
   "metadata": {},
   "outputs": [
    {
     "name": "stdout",
     "output_type": "stream",
     "text": [
      "--ENCODER--\n",
      "Tokens:(tokens)\n",
      "Focus Map:{focus_map}\n",
      "--DECODER--\n",
      "Best Match: 'What is AI'(score: 0.33)\n",
      "Generated Answer:AI stands for Artificial Intelligence\n"
     ]
    },
    {
     "data": {
      "text/plain": [
       "'AI stands for Artificial Intelligence'"
      ]
     },
     "execution_count": 33,
     "metadata": {},
     "output_type": "execute_result"
    }
   ],
   "source": [
    "transformer(\"AI\")"
   ]
  },
  {
   "cell_type": "code",
   "execution_count": 34,
   "id": "585a2255",
   "metadata": {},
   "outputs": [
    {
     "name": "stdout",
     "output_type": "stream",
     "text": [
      "--ENCODER--\n",
      "Tokens:(tokens)\n",
      "Focus Map:{focus_map}\n",
      "--DECODER--\n",
      "Best Match: 'What is AI'(score: 0.33)\n",
      "Generated Answer:AI stands for Artificial Intelligence\n"
     ]
    },
    {
     "data": {
      "text/plain": [
       "'AI stands for Artificial Intelligence'"
      ]
     },
     "execution_count": 34,
     "metadata": {},
     "output_type": "execute_result"
    }
   ],
   "source": [
    "transformer(\"What\")"
   ]
  },
  {
   "cell_type": "code",
   "execution_count": 35,
   "id": "c0cce079",
   "metadata": {},
   "outputs": [
    {
     "name": "stdout",
     "output_type": "stream",
     "text": [
      "--ENCODER--\n",
      "Tokens:(tokens)\n",
      "Focus Map:{focus_map}\n",
      "--DECODER--\n",
      "Best Match: 'None'(score: 0.00)\n",
      "Generated Answer:Answer not found!\n"
     ]
    },
    {
     "data": {
      "text/plain": [
       "'Answer not found!'"
      ]
     },
     "execution_count": 35,
     "metadata": {},
     "output_type": "execute_result"
    }
   ],
   "source": [
    "transformer(\"Hi\")"
   ]
  },
  {
   "cell_type": "code",
   "execution_count": 36,
   "id": "b609272e",
   "metadata": {},
   "outputs": [
    {
     "name": "stdout",
     "output_type": "stream",
     "text": [
      "--ENCODER--\n",
      "Tokens:(tokens)\n",
      "Focus Map:{focus_map}\n",
      "--DECODER--\n",
      "Best Match: 'None'(score: 0.00)\n",
      "Generated Answer:Answer not found!\n"
     ]
    },
    {
     "data": {
      "text/plain": [
       "'Answer not found!'"
      ]
     },
     "execution_count": 36,
     "metadata": {},
     "output_type": "execute_result"
    }
   ],
   "source": [
    "transformer(\"Hello there\")"
   ]
  },
  {
   "cell_type": "code",
   "execution_count": null,
   "id": "a06e17bf",
   "metadata": {},
   "outputs": [],
   "source": []
  }
 ],
 "metadata": {
  "kernelspec": {
   "display_name": "base",
   "language": "python",
   "name": "python3"
  },
  "language_info": {
   "codemirror_mode": {
    "name": "ipython",
    "version": 3
   },
   "file_extension": ".py",
   "mimetype": "text/x-python",
   "name": "python",
   "nbconvert_exporter": "python",
   "pygments_lexer": "ipython3",
   "version": "3.11.10"
  }
 },
 "nbformat": 4,
 "nbformat_minor": 5
}
